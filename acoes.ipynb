{
  "nbformat": 4,
  "nbformat_minor": 0,
  "metadata": {
    "colab": {
      "name": "acoes.ipynb",
      "provenance": [],
      "authorship_tag": "ABX9TyP5mAQQqg3g0dHo+9fL9Fp5",
      "include_colab_link": true
    },
    "kernelspec": {
      "name": "python3",
      "display_name": "Python 3"
    }
  },
  "cells": [
    {
      "cell_type": "markdown",
      "metadata": {
        "id": "view-in-github",
        "colab_type": "text"
      },
      "source": [
        "<a href=\"https://colab.research.google.com/github/tmoura/bolsa/blob/master/acoes.ipynb\" target=\"_parent\"><img src=\"https://colab.research.google.com/assets/colab-badge.svg\" alt=\"Open In Colab\"/></a>"
      ]
    },
    {
      "cell_type": "code",
      "metadata": {
        "id": "Z8PV52N4T2tA",
        "colab_type": "code",
        "colab": {}
      },
      "source": [
        "teste"
      ],
      "execution_count": null,
      "outputs": []
    }
  ]
}